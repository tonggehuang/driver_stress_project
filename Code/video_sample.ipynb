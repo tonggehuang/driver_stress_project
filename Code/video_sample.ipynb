{
 "cells": [
  {
   "cell_type": "code",
   "execution_count": 151,
   "metadata": {
    "collapsed": true
   },
   "outputs": [],
   "source": [
    "import numpy as np\n",
    "import cv2\n",
    "import matplotlib.pyplot as plt\n",
    "import pandas as pd\n",
    "import ffmpeg\n",
    "%matplotlib inline\n",
    "from PIL import Image\n",
    "\n",
    "import datetime\n",
    "import warnings\n",
    "warnings.filterwarnings(\"ignore\")\n",
    "import math\n",
    "\n",
    "import os\n",
    "import re\n"
   ]
  },
  {
   "cell_type": "code",
   "execution_count": 212,
   "metadata": {},
   "outputs": [
    {
     "name": "stdout",
     "output_type": "stream",
     "text": [
      "cv2 version = 3.4.0\n",
      "fps = 25.488940900331407, pos_msec = 0.0, pos_frames = 0.0, num_frames = 1529.0, width = 752.0, height = 960.0\n"
     ]
    }
   ],
   "source": [
    "print ('cv2 version = {}'.format(cv2.__version__))\n",
    "video_cap = cv2.VideoCapture('../EMP006_blackbox/EMP006_8_2017-09-22_18_49_53/EMP006_8_2017-09-22_18_49_53_dual_video-1506106434786708.mp4')\n",
    "fps = video_cap.get(cv2.CAP_PROP_FPS)\n",
    "pos_msec = video_cap.get(cv2.CAP_PROP_POS_MSEC)\n",
    "pos_frames = video_cap.get(cv2.CAP_PROP_POS_FRAMES)\n",
    "num_frames = video_cap.get(cv2.CAP_PROP_FRAME_COUNT)\n",
    "width = video_cap.get(cv2.CAP_PROP_FRAME_WIDTH)\n",
    "height = video_cap.get(cv2.CAP_PROP_FRAME_HEIGHT)\n",
    "print ('fps = {}, pos_msec = {}, pos_frames = {}, num_frames = {}, width = {}, height = {}'\n",
    "      .format(fps, pos_msec, pos_frames, num_frames, width, height))\n"
   ]
  },
  {
   "cell_type": "code",
   "execution_count": 183,
   "metadata": {
    "collapsed": true,
    "scrolled": true
   },
   "outputs": [],
   "source": [
    "# Process and save Images frame by frame 1/4 second\n",
    "for i in range (0,240,1):\n",
    "    video_cap.set(cv2.CAP_PROP_POS_MSEC,i*250)\n",
    "    success,image = video_cap.read()\n",
    "    if success:\n",
    "        cv2.imwrite('v_frames/{}.png'.format(i), image)"
   ]
  },
  {
   "cell_type": "code",
   "execution_count": 215,
   "metadata": {
    "collapsed": true
   },
   "outputs": [],
   "source": [
    "# Extract all frames\n",
    "bol,images = video_cap.read()\n",
    "count = 0\n",
    "bol = True\n",
    "while bol:\n",
    "    cv2.imwrite('video_frame/{}.png'.format(count), images)     # save frame as JPEG file\n",
    "    bol,images = video_cap.read()\n",
    "    count += 1"
   ]
  },
  {
   "cell_type": "code",
   "execution_count": 216,
   "metadata": {
    "collapsed": true
   },
   "outputs": [],
   "source": [
    "def video_to_frames(video, path_output_dir):\n",
    "    vidcap = cv2.VideoCapture(video)\n",
    "    count = 0\n",
    "    while vidcap.isOpened():\n",
    "        success, image = vidcap.read()\n",
    "        if success:\n",
    "            cv2.imwrite(os.path.join(path_output_dir, '%d.png') % count, image)\n",
    "            count += 1\n",
    "        else:\n",
    "            break\n",
    "    cv2.destroyAllWindows()\n",
    "    vidcap.release()\n",
    "\n",
    "video_to_frames('../EMP006_blackbox/EMP006_8_2017-09-22_18_49_53/EMP006_8_2017-09-22_18_49_53_dual_video-1506106434786708.mp4','video_frame')\n"
   ]
  },
  {
   "cell_type": "markdown",
   "metadata": {},
   "source": [
    "## Combine data & images"
   ]
  },
  {
   "cell_type": "code",
   "execution_count": 154,
   "metadata": {
    "collapsed": true
   },
   "outputs": [],
   "source": [
    "from PIL import Image"
   ]
  },
  {
   "cell_type": "code",
   "execution_count": 217,
   "metadata": {
    "collapsed": true
   },
   "outputs": [],
   "source": [
    "im1 = Image.open('dt_frame/0.png')\n",
    "im2 = Image.open('video_frame/0.png')"
   ]
  },
  {
   "cell_type": "code",
   "execution_count": 221,
   "metadata": {},
   "outputs": [
    {
     "name": "stdout",
     "output_type": "stream",
     "text": [
      "PNG (752, 960) RGBA\n"
     ]
    }
   ],
   "source": [
    "print(im1.format, im1.size, im1.mode)"
   ]
  },
  {
   "cell_type": "code",
   "execution_count": 222,
   "metadata": {
    "collapsed": true
   },
   "outputs": [],
   "source": [
    "def bind_images(file1, file2):\n",
    "    image1 = Image.open(file1)\n",
    "    image2 = Image.open(file2)\n",
    "\n",
    "    (width1, height1) = image1.size\n",
    "    (width2, height2) = image2.size\n",
    "\n",
    "    result_width = width1 + width2\n",
    "    result_height = max(height1, height2)\n",
    "    \n",
    "    result = Image.new('RGB', (result_width, result_height))\n",
    "    result.paste(im=image2, box=(0, 0))\n",
    "    result.paste(im=image1, box=(width1, 0))\n",
    "    return result"
   ]
  },
  {
   "cell_type": "code",
   "execution_count": 223,
   "metadata": {
    "collapsed": true
   },
   "outputs": [],
   "source": [
    "imgs_dir = 'video_frame/'\n",
    "data_dir = 'dt_frame/'\n",
    "imgs_list = os.listdir(imgs_dir)\n",
    "data_list = os.listdir(data_dir)"
   ]
  },
  {
   "cell_type": "code",
   "execution_count": 224,
   "metadata": {
    "collapsed": true
   },
   "outputs": [],
   "source": [
    "for imgs in imgs_list:\n",
    "    for data in data_list:\n",
    "        if imgs == data:\n",
    "            result = bind_images(data_dir + data, imgs_dir + imgs)\n",
    "            result.save('binded_res/{}'.format(data))"
   ]
  },
  {
   "cell_type": "markdown",
   "metadata": {},
   "source": [
    "## video generator"
   ]
  },
  {
   "cell_type": "code",
   "execution_count": 231,
   "metadata": {},
   "outputs": [
    {
     "data": {
      "text/plain": [
       "((1504, 960), 'RGB')"
      ]
     },
     "execution_count": 231,
     "metadata": {},
     "output_type": "execute_result"
    }
   ],
   "source": [
    "im1 = Image.open('binded_res/0.png')\n",
    "im1.size, im1.mode"
   ]
  },
  {
   "cell_type": "code",
   "execution_count": 234,
   "metadata": {
    "collapsed": true
   },
   "outputs": [],
   "source": [
    "from natsort import natsorted, ns\n",
    "imgs_list = os.listdir('binded_res')\n",
    "imgs_list = natsorted(imgs_list, key=lambda y: y.lower())"
   ]
  },
  {
   "cell_type": "code",
   "execution_count": 235,
   "metadata": {
    "collapsed": true
   },
   "outputs": [],
   "source": [
    "video = cv2.VideoWriter('test1.mp4', -1, 25.4333, (im1.size))\n",
    "for image in imgs_list:\n",
    "    img = cv2.imread('binded_res/' + image)\n",
    "    #images = cv2.cvtColor(img, cv2.COLOR_BGR2RGB)\n",
    "    video.write(img)\n",
    "\n",
    "cv2.destroyAllWindows()\n",
    "video.release()"
   ]
  },
  {
   "cell_type": "code",
   "execution_count": null,
   "metadata": {
    "collapsed": true
   },
   "outputs": [],
   "source": []
  },
  {
   "cell_type": "code",
   "execution_count": null,
   "metadata": {
    "collapsed": true
   },
   "outputs": [],
   "source": []
  }
 ],
 "metadata": {
  "kernelspec": {
   "display_name": "Python 3",
   "language": "python",
   "name": "python3"
  },
  "language_info": {
   "codemirror_mode": {
    "name": "ipython",
    "version": 3
   },
   "file_extension": ".py",
   "mimetype": "text/x-python",
   "name": "python",
   "nbconvert_exporter": "python",
   "pygments_lexer": "ipython3",
   "version": "3.6.1"
  }
 },
 "nbformat": 4,
 "nbformat_minor": 2
}
