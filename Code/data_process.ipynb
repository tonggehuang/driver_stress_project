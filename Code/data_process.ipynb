{
 "cells": [
  {
   "cell_type": "code",
   "execution_count": 1,
   "metadata": {},
   "outputs": [],
   "source": [
    "#.csv files in this archive are in the following format:\n",
    "# The first row is the initial time of the session expressed as unix timestamp in UTC.\n",
    "# The second row is the sample rate expressed in Hz.\n",
    "\n",
    "# HR.csv\n",
    "# Average heart rate extracted from the BVP signal.The first row is the initial time of the session expressed as unix timestamp in UTC.\n",
    "# The second row is the sample rate expressed in Hz.\n",
    "\n",
    "# EDA.csv\n",
    "# Data from the electrodermal activity sensor expressed as microsiemens (μS).\n",
    "\n",
    "# ACC.csv\n",
    "# Data from 3-axis accelerometer sensor. The accelerometer is configured to measure acceleration in the range [-2g, 2g]. ]\n",
    "# Therefore the unit in this file is 1/64g.\n",
    "# Data from x, y, and z axis are respectively in first, second, and third column.\n"
   ]
  },
  {
   "cell_type": "code",
   "execution_count": 2,
   "metadata": {},
   "outputs": [],
   "source": [
    "import os\n",
    "import re\n",
    "import cv2\n",
    "import math\n",
    "\n",
    "import numpy as np\n",
    "import pandas as pd\n",
    "import seaborn as sns\n",
    "import matplotlib.pyplot as plt\n",
    "%matplotlib inline\n",
    "\n",
    "import datetime\n",
    "import warnings\n",
    "warnings.filterwarnings(\"ignore\")"
   ]
  },
  {
   "cell_type": "code",
   "execution_count": 3,
   "metadata": {},
   "outputs": [],
   "source": [
    "def gps_data(gpspath):\n",
    "    gps_info = pd.read_csv(gpspath,sep=',')\n",
    "    gps_info = gps_info[['subject_id', 'time', 'latitude','longitude','gpsspeed']]\n",
    "    gps_info = gps_info.rename(index=str, columns={\"subject_id\": \"Driver\", \"time\": \"timestamp\", \"gpsspeed\":\"speed\"})\n",
    "    \n",
    "    unix_time = pd.to_datetime(gps_info.timestamp).astype(np.int64)//10**9\n",
    "    gps_info.insert(loc=1, column='unix_time', value=unix_time)\n",
    "    \n",
    "    gps_info.loc[(gps_info.latitude == 0), 'latitude'] = np.nan\n",
    "    gps_info.loc[(gps_info.longitude == 0), 'longitude'] = np.nan\n",
    "    return gps_info"
   ]
  },
  {
   "cell_type": "code",
   "execution_count": 4,
   "metadata": {},
   "outputs": [],
   "source": [
    "def acc_data(accpath):\n",
    "    acc_info = pd.read_csv(accpath,header =None, sep=',', names=['acc_x','acc_y','acc_z'])\n",
    "    acc_info =  acc_info[['acc_x']]\n",
    "    # start time & sample rate\n",
    "    start_time = acc_info.iloc[0,0]\n",
    "    sample_rate = 1/acc_info.iloc[1,0]\n",
    "    # unix time series generate\n",
    "    acc_info = acc_info.iloc[2:].reset_index(drop=True)\n",
    "    unix_time = pd.Series(range(0,len(acc_info)))*sample_rate + start_time\n",
    "    acc_info.insert(loc=0, column='unix_time', value=unix_time)\n",
    "    # unix group to 1 second\n",
    "    acc_info['unix_time'] = acc_info['unix_time'].astype(np.int64)\n",
    "    acc_info = acc_info.groupby(['unix_time'])['acc_x'].mean().reset_index()\n",
    "    #acc_info.insert(loc=1, column='timestamp',value=pd.to_datetime(acc_info.unix_time, unit='s'))\n",
    "    return acc_info"
   ]
  },
  {
   "cell_type": "code",
   "execution_count": 5,
   "metadata": {},
   "outputs": [],
   "source": [
    "def eda_data(edapath):\n",
    "    eda_info = pd.read_csv(edapath,header =None, sep=',', names=['eda'])\n",
    "    # start time & sample rate\n",
    "    start_time = eda_info.iloc[0,0]\n",
    "    sample_rate = 1/eda_info.iloc[1,0]\n",
    "    \n",
    "    eda_info = eda_info.iloc[2:].reset_index(drop=True)\n",
    "    unix_time = pd.Series(range(0,len(eda_info)))*sample_rate + start_time\n",
    "    eda_info.insert(loc=0, column='unix_time', value=unix_time)\n",
    "    \n",
    "    eda_info['unix_time'] = eda_info['unix_time'].astype(np.int64)\n",
    "    eda_info = eda_info.groupby(['unix_time'])['eda'].mean().reset_index()\n",
    "    return eda_info"
   ]
  },
  {
   "cell_type": "code",
   "execution_count": 6,
   "metadata": {},
   "outputs": [],
   "source": [
    "def hr_data(hrpath):\n",
    "    hr_info = pd.read_csv(hrpath,header =None, sep=',', names=['HR'])\n",
    "    # start time & sample rate\n",
    "    start_time = hr_info.iloc[0,0]\n",
    "    sample_rate = 1/hr_info.iloc[1,0]\n",
    "    \n",
    "    hr_info = hr_info.iloc[2:].reset_index(drop=True)\n",
    "    unix_time = pd.Series(range(0,len(hr_info)))*sample_rate + start_time\n",
    "    hr_info.insert(loc=0, column='unix_time', value=unix_time)\n",
    "    \n",
    "    hr_info['unix_time'] = hr_info['unix_time'].astype(np.int64)\n",
    "    hr_info = hr_info.groupby(['unix_time'])['HR'].mean().reset_index()\n",
    "    return hr_info"
   ]
  },
  {
   "cell_type": "markdown",
   "metadata": {},
   "source": [
    "### empatica seperate drivers data process"
   ]
  },
  {
   "cell_type": "code",
   "execution_count": 64,
   "metadata": {},
   "outputs": [],
   "source": [
    "empatica_path = '/Users/tongge/Box/DriverStress/Data/Empatica/EMP007'\n",
    "gpsbb_path = '/Users/tongge/Box/DriverStress/Data/BlackBox/EMP007'"
   ]
  },
  {
   "cell_type": "code",
   "execution_count": 66,
   "metadata": {},
   "outputs": [
    {
     "name": "stdout",
     "output_type": "stream",
     "text": [
      "Done!\n"
     ]
    }
   ],
   "source": [
    "# emp data\n",
    "hr_df = pd.DataFrame()\n",
    "acc_df = pd.DataFrame()\n",
    "eda_df = pd.DataFrame()\n",
    "for i in os.listdir(empatica_path):\n",
    "    for j in os.listdir(os.path.join(empatica_path,i)):\n",
    "        if re.match('HR.csv', j):\n",
    "            hrpath = os.path.join(empatica_path,i,j)\n",
    "            hr_info = hr_data(hrpath)\n",
    "            hr_df = hr_df.append(hr_info, ignore_index=True)\n",
    "        elif re.match('ACC.csv', j):\n",
    "            acc_path = os.path.join(empatica_path,i,j)\n",
    "            acc_info = acc_data(acc_path)\n",
    "            acc_df = acc_df.append(acc_info, ignore_index=True)\n",
    "        elif re.match('EDA.csv', j):\n",
    "            eda_path = os.path.join(empatica_path,i,j)\n",
    "            eda_info = eda_data(eda_path)\n",
    "            eda_df = eda_df.append(eda_info, ignore_index=True)\n",
    "print('Done!')\n",
    "emp_df = pd.merge(pd.merge(hr_df,eda_df,on='unix_time'),acc_df,on='unix_time')"
   ]
  },
  {
   "cell_type": "code",
   "execution_count": 67,
   "metadata": {},
   "outputs": [
    {
     "data": {
      "text/plain": [
       "(1240181, 4)"
      ]
     },
     "execution_count": 67,
     "metadata": {},
     "output_type": "execute_result"
    }
   ],
   "source": [
    "emp_df.shape"
   ]
  },
  {
   "cell_type": "code",
   "execution_count": 68,
   "metadata": {
    "scrolled": true
   },
   "outputs": [
    {
     "name": "stdout",
     "output_type": "stream",
     "text": [
      "Done!\n"
     ]
    }
   ],
   "source": [
    "# gps data\n",
    "gps_df = pd.DataFrame()\n",
    "for i in os.listdir(gpsbb_path):\n",
    "    for j in os.listdir(os.path.join(gpsbb_path,i)):\n",
    "        if re.search('1hz',j):                 \n",
    "            gps_path = os.path.join(gpsbb_path,i,j)\n",
    "            if os.path.getsize(gps_path)!=0:  \n",
    "                try:\n",
    "                    gps_info = gps_data(gps_path)\n",
    "                    gps_df = gps_df.append(gps_info, ignore_index=True)\n",
    "                except ParserError:#,NameError) as e:\n",
    "                    pass\n",
    "print('Done!')"
   ]
  },
  {
   "cell_type": "code",
   "execution_count": 69,
   "metadata": {},
   "outputs": [
    {
     "data": {
      "text/plain": [
       "(133771, 6)"
      ]
     },
     "execution_count": 69,
     "metadata": {},
     "output_type": "execute_result"
    }
   ],
   "source": [
    "gps_df.shape"
   ]
  },
  {
   "cell_type": "code",
   "execution_count": 70,
   "metadata": {},
   "outputs": [],
   "source": [
    "emp_data_007 = pd.merge(gps_df,emp_df,on='unix_time').sort_values(by='unix_time')"
   ]
  },
  {
   "cell_type": "code",
   "execution_count": 71,
   "metadata": {},
   "outputs": [
    {
     "data": {
      "text/plain": [
       "(80713, 9)"
      ]
     },
     "execution_count": 71,
     "metadata": {},
     "output_type": "execute_result"
    }
   ],
   "source": [
    "emp_data_007.shape"
   ]
  },
  {
   "cell_type": "code",
   "execution_count": 72,
   "metadata": {},
   "outputs": [],
   "source": [
    "emp_data_007.to_csv('/Users/tongge/Box/driver_stress_tong/Empatica_data/emp_v2/emp_data_007.csv', index=None)"
   ]
  },
  {
   "cell_type": "markdown",
   "metadata": {},
   "source": [
    "### empatica data summary"
   ]
  },
  {
   "cell_type": "code",
   "execution_count": 74,
   "metadata": {},
   "outputs": [
    {
     "name": "stdout",
     "output_type": "stream",
     "text": [
      "Done!\n"
     ]
    }
   ],
   "source": [
    "empatica_path = '/Users/tongge/Box/driver_stress_tong/Empatica_data/emp_v2'\n",
    "empatica_data = pd.DataFrame()\n",
    "for fpath in os.listdir(empatica_path):\n",
    "    if fpath.endswith('.csv'):\n",
    "        emp_df = pd.read_csv(os.path.join(empatica_path,fpath), sep=',')\n",
    "        empatica_data = empatica_data.append(emp_df, ignore_index=True)\n",
    "print('Done!')"
   ]
  },
  {
   "cell_type": "code",
   "execution_count": 75,
   "metadata": {},
   "outputs": [
    {
     "data": {
      "text/html": [
       "<div>\n",
       "<style scoped>\n",
       "    .dataframe tbody tr th:only-of-type {\n",
       "        vertical-align: middle;\n",
       "    }\n",
       "\n",
       "    .dataframe tbody tr th {\n",
       "        vertical-align: top;\n",
       "    }\n",
       "\n",
       "    .dataframe thead th {\n",
       "        text-align: right;\n",
       "    }\n",
       "</style>\n",
       "<table border=\"1\" class=\"dataframe\">\n",
       "  <thead>\n",
       "    <tr style=\"text-align: right;\">\n",
       "      <th></th>\n",
       "      <th>Driver</th>\n",
       "      <th>unix_time</th>\n",
       "      <th>timestamp</th>\n",
       "      <th>latitude</th>\n",
       "      <th>longitude</th>\n",
       "      <th>speed</th>\n",
       "      <th>HR</th>\n",
       "      <th>eda</th>\n",
       "      <th>acc_x</th>\n",
       "    </tr>\n",
       "  </thead>\n",
       "  <tbody>\n",
       "    <tr>\n",
       "      <th>0</th>\n",
       "      <td>EMP000</td>\n",
       "      <td>1504903497</td>\n",
       "      <td>2017-09-08 20:44:57</td>\n",
       "      <td>41.255962</td>\n",
       "      <td>-96.007935</td>\n",
       "      <td>0.00000</td>\n",
       "      <td>93.00</td>\n",
       "      <td>0.098319</td>\n",
       "      <td>-10.21875</td>\n",
       "    </tr>\n",
       "    <tr>\n",
       "      <th>1</th>\n",
       "      <td>EMP000</td>\n",
       "      <td>1504903498</td>\n",
       "      <td>2017-09-08 20:44:58</td>\n",
       "      <td>41.255962</td>\n",
       "      <td>-96.007935</td>\n",
       "      <td>0.00000</td>\n",
       "      <td>108.50</td>\n",
       "      <td>0.093195</td>\n",
       "      <td>-22.21875</td>\n",
       "    </tr>\n",
       "    <tr>\n",
       "      <th>2</th>\n",
       "      <td>EMP000</td>\n",
       "      <td>1504903499</td>\n",
       "      <td>2017-09-08 20:44:59</td>\n",
       "      <td>41.255962</td>\n",
       "      <td>-96.007935</td>\n",
       "      <td>0.01000</td>\n",
       "      <td>100.00</td>\n",
       "      <td>0.088071</td>\n",
       "      <td>-5.68750</td>\n",
       "    </tr>\n",
       "    <tr>\n",
       "      <th>3</th>\n",
       "      <td>EMP000</td>\n",
       "      <td>1504903500</td>\n",
       "      <td>2017-09-08 20:45:00</td>\n",
       "      <td>41.255962</td>\n",
       "      <td>-96.007935</td>\n",
       "      <td>0.01000</td>\n",
       "      <td>89.25</td>\n",
       "      <td>0.094796</td>\n",
       "      <td>-15.59375</td>\n",
       "    </tr>\n",
       "    <tr>\n",
       "      <th>4</th>\n",
       "      <td>EMP000</td>\n",
       "      <td>1504903501</td>\n",
       "      <td>2017-09-08 20:45:01</td>\n",
       "      <td>41.255962</td>\n",
       "      <td>-96.007935</td>\n",
       "      <td>0.01852</td>\n",
       "      <td>87.00</td>\n",
       "      <td>0.093835</td>\n",
       "      <td>-19.87500</td>\n",
       "    </tr>\n",
       "  </tbody>\n",
       "</table>\n",
       "</div>"
      ],
      "text/plain": [
       "   Driver   unix_time            timestamp   latitude  longitude    speed  \\\n",
       "0  EMP000  1504903497  2017-09-08 20:44:57  41.255962 -96.007935  0.00000   \n",
       "1  EMP000  1504903498  2017-09-08 20:44:58  41.255962 -96.007935  0.00000   \n",
       "2  EMP000  1504903499  2017-09-08 20:44:59  41.255962 -96.007935  0.01000   \n",
       "3  EMP000  1504903500  2017-09-08 20:45:00  41.255962 -96.007935  0.01000   \n",
       "4  EMP000  1504903501  2017-09-08 20:45:01  41.255962 -96.007935  0.01852   \n",
       "\n",
       "       HR       eda     acc_x  \n",
       "0   93.00  0.098319 -10.21875  \n",
       "1  108.50  0.093195 -22.21875  \n",
       "2  100.00  0.088071  -5.68750  \n",
       "3   89.25  0.094796 -15.59375  \n",
       "4   87.00  0.093835 -19.87500  "
      ]
     },
     "execution_count": 75,
     "metadata": {},
     "output_type": "execute_result"
    }
   ],
   "source": [
    "empatica_data.head()"
   ]
  },
  {
   "cell_type": "code",
   "execution_count": 76,
   "metadata": {},
   "outputs": [],
   "source": [
    "empatica_data['timestamp'] = pd.to_datetime(empatica_data.timestamp)"
   ]
  },
  {
   "cell_type": "code",
   "execution_count": 77,
   "metadata": {},
   "outputs": [],
   "source": [
    "empatica_data.insert(loc=3, column='date', value=empatica_data['timestamp'].apply(lambda x: x.strftime('%Y%m%d')))\n"
   ]
  },
  {
   "cell_type": "code",
   "execution_count": 78,
   "metadata": {},
   "outputs": [],
   "source": [
    "empatica_data.insert(loc=4, column='time', value=empatica_data['timestamp'].apply(lambda x: x.strftime('%H:%M:%S')))\n"
   ]
  },
  {
   "cell_type": "markdown",
   "metadata": {},
   "source": [
    "### empatica data v2"
   ]
  },
  {
   "cell_type": "code",
   "execution_count": 80,
   "metadata": {},
   "outputs": [],
   "source": [
    "empatica_data_v2 = empatica_data.copy()"
   ]
  },
  {
   "cell_type": "code",
   "execution_count": 81,
   "metadata": {},
   "outputs": [],
   "source": [
    "empatica_data_v2 = empatica_data_v2.sort_values(by=['Driver','unix_time'])"
   ]
  },
  {
   "cell_type": "code",
   "execution_count": 82,
   "metadata": {},
   "outputs": [],
   "source": [
    "empatica_data_v2['gradient_HR'] = empatica_data_v2.HR.diff().shift(-1)\n",
    "empatica_data_v2['gradient_eda'] = empatica_data_v2.eda.diff().shift(-1)\n",
    "empatica_data_v2['gradient_acc'] = empatica_data_v2.acc_x.diff().shift(-1)"
   ]
  },
  {
   "cell_type": "code",
   "execution_count": 83,
   "metadata": {
    "scrolled": true
   },
   "outputs": [],
   "source": [
    "empatica_data_v2['interval'] = empatica_data_v2.unix_time.diff().shift(-1)"
   ]
  },
  {
   "cell_type": "code",
   "execution_count": 84,
   "metadata": {},
   "outputs": [],
   "source": [
    "empatica_data_v2.gradient_HR.iloc[-1] = 0\n",
    "empatica_data_v2.gradient_eda.iloc[-1] = 0\n",
    "empatica_data_v2.gradient_acc.iloc[-1] = 0\n",
    "empatica_data_v2.interval.iloc[-1] = 0"
   ]
  },
  {
   "cell_type": "code",
   "execution_count": 85,
   "metadata": {},
   "outputs": [],
   "source": [
    "empatica_data_v2.loc[empatica_data_v2['interval']!=1,'gradient_HR']=0\n",
    "empatica_data_v2.loc[empatica_data_v2['interval']!=1,'gradient_eda']=0\n",
    "empatica_data_v2.loc[empatica_data_v2['interval']!=1,'gradient_acc']=0"
   ]
  },
  {
   "cell_type": "code",
   "execution_count": 86,
   "metadata": {},
   "outputs": [],
   "source": [
    "empatica_data_v2 = empatica_data_v2.drop(['interval'], axis=1)"
   ]
  },
  {
   "cell_type": "code",
   "execution_count": 87,
   "metadata": {},
   "outputs": [
    {
     "data": {
      "text/html": [
       "<div>\n",
       "<style scoped>\n",
       "    .dataframe tbody tr th:only-of-type {\n",
       "        vertical-align: middle;\n",
       "    }\n",
       "\n",
       "    .dataframe tbody tr th {\n",
       "        vertical-align: top;\n",
       "    }\n",
       "\n",
       "    .dataframe thead th {\n",
       "        text-align: right;\n",
       "    }\n",
       "</style>\n",
       "<table border=\"1\" class=\"dataframe\">\n",
       "  <thead>\n",
       "    <tr style=\"text-align: right;\">\n",
       "      <th></th>\n",
       "      <th>Driver</th>\n",
       "      <th>unix_time</th>\n",
       "      <th>timestamp</th>\n",
       "      <th>date</th>\n",
       "      <th>time</th>\n",
       "      <th>latitude</th>\n",
       "      <th>longitude</th>\n",
       "      <th>speed</th>\n",
       "      <th>HR</th>\n",
       "      <th>eda</th>\n",
       "      <th>acc_x</th>\n",
       "      <th>gradient_HR</th>\n",
       "      <th>gradient_eda</th>\n",
       "      <th>gradient_acc</th>\n",
       "    </tr>\n",
       "  </thead>\n",
       "  <tbody>\n",
       "    <tr>\n",
       "      <th>0</th>\n",
       "      <td>EMP000</td>\n",
       "      <td>1504903497</td>\n",
       "      <td>2017-09-08 20:44:57</td>\n",
       "      <td>20170908</td>\n",
       "      <td>20:44:57</td>\n",
       "      <td>41.255962</td>\n",
       "      <td>-96.007935</td>\n",
       "      <td>0.00000</td>\n",
       "      <td>93.00</td>\n",
       "      <td>0.098319</td>\n",
       "      <td>-10.21875</td>\n",
       "      <td>15.50</td>\n",
       "      <td>-0.005124</td>\n",
       "      <td>-12.00000</td>\n",
       "    </tr>\n",
       "    <tr>\n",
       "      <th>1</th>\n",
       "      <td>EMP000</td>\n",
       "      <td>1504903498</td>\n",
       "      <td>2017-09-08 20:44:58</td>\n",
       "      <td>20170908</td>\n",
       "      <td>20:44:58</td>\n",
       "      <td>41.255962</td>\n",
       "      <td>-96.007935</td>\n",
       "      <td>0.00000</td>\n",
       "      <td>108.50</td>\n",
       "      <td>0.093195</td>\n",
       "      <td>-22.21875</td>\n",
       "      <td>-8.50</td>\n",
       "      <td>-0.005124</td>\n",
       "      <td>16.53125</td>\n",
       "    </tr>\n",
       "    <tr>\n",
       "      <th>2</th>\n",
       "      <td>EMP000</td>\n",
       "      <td>1504903499</td>\n",
       "      <td>2017-09-08 20:44:59</td>\n",
       "      <td>20170908</td>\n",
       "      <td>20:44:59</td>\n",
       "      <td>41.255962</td>\n",
       "      <td>-96.007935</td>\n",
       "      <td>0.01000</td>\n",
       "      <td>100.00</td>\n",
       "      <td>0.088071</td>\n",
       "      <td>-5.68750</td>\n",
       "      <td>-10.75</td>\n",
       "      <td>0.006725</td>\n",
       "      <td>-9.90625</td>\n",
       "    </tr>\n",
       "    <tr>\n",
       "      <th>3</th>\n",
       "      <td>EMP000</td>\n",
       "      <td>1504903500</td>\n",
       "      <td>2017-09-08 20:45:00</td>\n",
       "      <td>20170908</td>\n",
       "      <td>20:45:00</td>\n",
       "      <td>41.255962</td>\n",
       "      <td>-96.007935</td>\n",
       "      <td>0.01000</td>\n",
       "      <td>89.25</td>\n",
       "      <td>0.094796</td>\n",
       "      <td>-15.59375</td>\n",
       "      <td>-2.25</td>\n",
       "      <td>-0.000961</td>\n",
       "      <td>-4.28125</td>\n",
       "    </tr>\n",
       "    <tr>\n",
       "      <th>4</th>\n",
       "      <td>EMP000</td>\n",
       "      <td>1504903501</td>\n",
       "      <td>2017-09-08 20:45:01</td>\n",
       "      <td>20170908</td>\n",
       "      <td>20:45:01</td>\n",
       "      <td>41.255962</td>\n",
       "      <td>-96.007935</td>\n",
       "      <td>0.01852</td>\n",
       "      <td>87.00</td>\n",
       "      <td>0.093835</td>\n",
       "      <td>-19.87500</td>\n",
       "      <td>-1.50</td>\n",
       "      <td>0.000000</td>\n",
       "      <td>0.37500</td>\n",
       "    </tr>\n",
       "  </tbody>\n",
       "</table>\n",
       "</div>"
      ],
      "text/plain": [
       "   Driver   unix_time           timestamp      date      time   latitude  \\\n",
       "0  EMP000  1504903497 2017-09-08 20:44:57  20170908  20:44:57  41.255962   \n",
       "1  EMP000  1504903498 2017-09-08 20:44:58  20170908  20:44:58  41.255962   \n",
       "2  EMP000  1504903499 2017-09-08 20:44:59  20170908  20:44:59  41.255962   \n",
       "3  EMP000  1504903500 2017-09-08 20:45:00  20170908  20:45:00  41.255962   \n",
       "4  EMP000  1504903501 2017-09-08 20:45:01  20170908  20:45:01  41.255962   \n",
       "\n",
       "   longitude    speed      HR       eda     acc_x  gradient_HR  gradient_eda  \\\n",
       "0 -96.007935  0.00000   93.00  0.098319 -10.21875        15.50     -0.005124   \n",
       "1 -96.007935  0.00000  108.50  0.093195 -22.21875        -8.50     -0.005124   \n",
       "2 -96.007935  0.01000  100.00  0.088071  -5.68750       -10.75      0.006725   \n",
       "3 -96.007935  0.01000   89.25  0.094796 -15.59375        -2.25     -0.000961   \n",
       "4 -96.007935  0.01852   87.00  0.093835 -19.87500        -1.50      0.000000   \n",
       "\n",
       "   gradient_acc  \n",
       "0     -12.00000  \n",
       "1      16.53125  \n",
       "2      -9.90625  \n",
       "3      -4.28125  \n",
       "4       0.37500  "
      ]
     },
     "execution_count": 87,
     "metadata": {},
     "output_type": "execute_result"
    }
   ],
   "source": [
    "empatica_data_v2.head()"
   ]
  },
  {
   "cell_type": "code",
   "execution_count": 88,
   "metadata": {},
   "outputs": [
    {
     "data": {
      "text/plain": [
       "(365228, 14)"
      ]
     },
     "execution_count": 88,
     "metadata": {},
     "output_type": "execute_result"
    }
   ],
   "source": [
    "empatica_data_v2.shape"
   ]
  },
  {
   "cell_type": "code",
   "execution_count": 89,
   "metadata": {},
   "outputs": [],
   "source": [
    "empatica_data_v2.to_csv('/Users/tongge/Box/driver_stress_tong/Empatica_data/summary_new/empatica_data_new.csv', index=None)"
   ]
  },
  {
   "cell_type": "code",
   "execution_count": null,
   "metadata": {},
   "outputs": [],
   "source": []
  },
  {
   "cell_type": "markdown",
   "metadata": {},
   "source": [
    "### empatica data v3"
   ]
  },
  {
   "cell_type": "code",
   "execution_count": 90,
   "metadata": {},
   "outputs": [],
   "source": [
    "empatica_data_v3 = pd.read_csv('/Users/tongge/Box/driver_stress_tong/Empatica_data/summary_new/empatica_data_new.csv')\n"
   ]
  },
  {
   "cell_type": "code",
   "execution_count": 91,
   "metadata": {},
   "outputs": [],
   "source": [
    "value = empatica_data_v3['unix_time'].apply(lambda row: datetime.datetime.fromtimestamp(row))"
   ]
  },
  {
   "cell_type": "code",
   "execution_count": 92,
   "metadata": {},
   "outputs": [],
   "source": [
    "empatica_data_v3.insert(loc=5, column='timestamp_local', value=value)\n"
   ]
  },
  {
   "cell_type": "code",
   "execution_count": 93,
   "metadata": {},
   "outputs": [],
   "source": [
    "empatica_data_v3.insert(loc=6, column='time_local', value=empatica_data_v3['timestamp_local'].apply(lambda row: row.strftime('%H:%M:%S')))\n",
    "empatica_data_v3.insert(loc=6, column='date_local', value=empatica_data_v3['timestamp_local'].apply(lambda row: row.strftime('%Y%m%d')))\n"
   ]
  },
  {
   "cell_type": "code",
   "execution_count": 95,
   "metadata": {},
   "outputs": [],
   "source": [
    "#empatica_data_v3.to_csv('/Users/tongge/Box/driver_stress_tong/Empatica_data/summary_new/empatica_data_mod.csv', index=None)\n",
    "\n",
    "\n"
   ]
  },
  {
   "cell_type": "code",
   "execution_count": null,
   "metadata": {},
   "outputs": [],
   "source": []
  },
  {
   "cell_type": "markdown",
   "metadata": {},
   "source": [
    "### final version"
   ]
  },
  {
   "cell_type": "code",
   "execution_count": 99,
   "metadata": {},
   "outputs": [
    {
     "data": {
      "text/plain": [
       "(365228, 17)"
      ]
     },
     "execution_count": 99,
     "metadata": {},
     "output_type": "execute_result"
    }
   ],
   "source": [
    "empatica_data_v3.shape"
   ]
  },
  {
   "cell_type": "code",
   "execution_count": 31,
   "metadata": {},
   "outputs": [],
   "source": [
    "empatica_data_mod = pd.read_csv('/Users/tongge/Box/driver_stress_tong/Empatica_data/summary_new/empatica_data_mod.csv')"
   ]
  },
  {
   "cell_type": "code",
   "execution_count": 32,
   "metadata": {},
   "outputs": [],
   "source": [
    "empatica_data_mod = empatica_data_mod.sort_values(by=['Driver','unix_time'])"
   ]
  },
  {
   "cell_type": "code",
   "execution_count": 33,
   "metadata": {},
   "outputs": [],
   "source": [
    "empatica_data_mod = empatica_data_mod.drop(['gradient_HR','gradient_eda','gradient_acc'], axis=1)"
   ]
  },
  {
   "cell_type": "code",
   "execution_count": 34,
   "metadata": {},
   "outputs": [],
   "source": [
    "empatica_data_mod['gradient_HR'] = empatica_data_mod.HR.diff().shift(0)\n",
    "empatica_data_mod['gradient_eda'] = empatica_data_mod.eda.diff().shift(0)\n",
    "empatica_data_mod['gradient_acc'] = empatica_data_mod.acc_x.diff().shift(0)\n",
    "empatica_data_mod['interval'] = empatica_data_mod.unix_time.diff().shift(0)"
   ]
  },
  {
   "cell_type": "code",
   "execution_count": 36,
   "metadata": {},
   "outputs": [],
   "source": [
    "empatica_data_mod.gradient_HR.iloc[0] = 0\n",
    "empatica_data_mod.gradient_eda.iloc[0] = 0\n",
    "empatica_data_mod.gradient_acc.iloc[0] = 0\n",
    "empatica_data_mod.interval.iloc[0] = 0"
   ]
  },
  {
   "cell_type": "code",
   "execution_count": 38,
   "metadata": {},
   "outputs": [],
   "source": [
    "empatica_data_mod.loc[empatica_data_mod['interval']!=1,'gradient_HR']=0\n",
    "empatica_data_mod.loc[empatica_data_mod['interval']!=1,'gradient_eda']=0\n",
    "empatica_data_mod.loc[empatica_data_mod['interval']!=1,'gradient_acc']=0"
   ]
  },
  {
   "cell_type": "code",
   "execution_count": 40,
   "metadata": {},
   "outputs": [],
   "source": [
    "empatica_data_mod = empatica_data_mod.drop(['interval'], axis=1)"
   ]
  },
  {
   "cell_type": "code",
   "execution_count": 43,
   "metadata": {},
   "outputs": [],
   "source": [
    "empatica_data_mod.loc[empatica_data_mod.gradient_eda < 0, 'jump_eda'] = 0\n",
    "empatica_data_mod.loc[empatica_data_mod.gradient_eda >= 0, 'jump_eda'] = empatica_data_mod.gradient_eda"
   ]
  },
  {
   "cell_type": "code",
   "execution_count": null,
   "metadata": {},
   "outputs": [],
   "source": []
  },
  {
   "cell_type": "code",
   "execution_count": 45,
   "metadata": {},
   "outputs": [],
   "source": [
    "empatica_data_mod.to_csv('/Users/tongge/Box/driver_stress_tong/Empatica_data/summary_new/empatica_data_mod2.csv', index=None)\n"
   ]
  },
  {
   "cell_type": "code",
   "execution_count": null,
   "metadata": {},
   "outputs": [],
   "source": []
  },
  {
   "cell_type": "code",
   "execution_count": null,
   "metadata": {},
   "outputs": [],
   "source": []
  }
 ],
 "metadata": {
  "kernelspec": {
   "display_name": "Python 3",
   "language": "python",
   "name": "python3"
  },
  "language_info": {
   "codemirror_mode": {
    "name": "ipython",
    "version": 3
   },
   "file_extension": ".py",
   "mimetype": "text/x-python",
   "name": "python",
   "nbconvert_exporter": "python",
   "pygments_lexer": "ipython3",
   "version": "3.6.4"
  }
 },
 "nbformat": 4,
 "nbformat_minor": 2
}
