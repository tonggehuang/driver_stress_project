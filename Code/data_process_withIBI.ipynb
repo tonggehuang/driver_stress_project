{
 "cells": [
  {
   "cell_type": "code",
   "execution_count": 1,
   "metadata": {
    "collapsed": true
   },
   "outputs": [],
   "source": [
    "#.csv files in this archive are in the following format:\n",
    "# The first row is the initial time of the session expressed as unix timestamp in UTC.\n",
    "# The second row is the sample rate expressed in Hz.\n",
    "\n",
    "# HR.csv\n",
    "# Average heart rate extracted from the BVP signal.The first row is the initial time of the session expressed as unix timestamp in UTC.\n",
    "# The second row is the sample rate expressed in Hz.\n",
    "\n",
    "# EDA.csv\n",
    "# Data from the electrodermal activity sensor expressed as microsiemens (μS).\n",
    "\n",
    "# ACC.csv\n",
    "# Data from 3-axis accelerometer sensor. The accelerometer is configured to measure acceleration in the range [-2g, 2g]. ]\n",
    "# Therefore the unit in this file is 1/64g.\n",
    "# Data from x, y, and z axis are respectively in first, second, and third column.\n"
   ]
  },
  {
   "cell_type": "code",
   "execution_count": 2,
   "metadata": {
    "collapsed": true
   },
   "outputs": [],
   "source": [
    "import os\n",
    "import re\n",
    "import cv2\n",
    "import math\n",
    "\n",
    "import numpy as np\n",
    "import pandas as pd\n",
    "import seaborn as sns\n",
    "import matplotlib.pyplot as plt\n",
    "%matplotlib inline\n",
    "\n",
    "import datetime\n",
    "import warnings\n",
    "warnings.filterwarnings(\"ignore\")"
   ]
  },
  {
   "cell_type": "code",
   "execution_count": null,
   "metadata": {
    "collapsed": true
   },
   "outputs": [],
   "source": [
    "def gps_data(gpspath):\n",
    "    gps_info = pd.read_csv(gpspath,sep=',')\n",
    "    gps_info = gps_info[['subject_id', 'time', 'latitude','longitude','gpsspeed']]\n",
    "    gps_info = gps_info.rename(index=str, columns={\"subject_id\": \"Driver\", \"time\": \"timestamp\", \"gpsspeed\":\"speed\"})\n",
    "    \n",
    "    unix_time = pd.to_datetime(gps_info.timestamp).astype(np.int64)//10**9\n",
    "    gps_info.insert(loc=1, column='unix_time', value=unix_time)\n",
    "    \n",
    "    gps_info.loc[(gps_info.latitude == 0), 'latitude'] = np.nan\n",
    "    gps_info.loc[(gps_info.longitude == 0), 'longitude'] = np.nan\n",
    "    return gps_info"
   ]
  },
  {
   "cell_type": "code",
   "execution_count": null,
   "metadata": {
    "collapsed": true
   },
   "outputs": [],
   "source": [
    "def acc_data(accpath):\n",
    "    acc_info = pd.read_csv(accpath,header =None, sep=',', names=['acc_x','acc_y','acc_z'])\n",
    "    acc_info =  acc_info[['acc_x']]\n",
    "    # start time & sample rate\n",
    "    start_time = acc_info.iloc[0,0]\n",
    "    sample_rate = 1/acc_info.iloc[1,0]\n",
    "    # unix time series generate\n",
    "    acc_info = acc_info.iloc[2:].reset_index(drop=True)\n",
    "    unix_time = pd.Series(range(0,len(acc_info)))*sample_rate + start_time\n",
    "    acc_info.insert(loc=0, column='unix_time', value=unix_time)\n",
    "    # unix group to 1 second\n",
    "    acc_info['unix_time'] = acc_info['unix_time'].astype(np.int64)\n",
    "    acc_info = acc_info.groupby(['unix_time'])['acc_x'].mean().reset_index()\n",
    "    #acc_info.insert(loc=1, column='timestamp',value=pd.to_datetime(acc_info.unix_time, unit='s'))\n",
    "    return acc_info"
   ]
  },
  {
   "cell_type": "code",
   "execution_count": null,
   "metadata": {
    "collapsed": true
   },
   "outputs": [],
   "source": [
    "def eda_data(edapath):\n",
    "    eda_info = pd.read_csv(edapath,header =None, sep=',', names=['eda'])\n",
    "    # start time & sample rate\n",
    "    start_time = eda_info.iloc[0,0]\n",
    "    sample_rate = 1/eda_info.iloc[1,0]\n",
    "    \n",
    "    eda_info = eda_info.iloc[2:].reset_index(drop=True)\n",
    "    unix_time = pd.Series(range(0,len(eda_info)))*sample_rate + start_time\n",
    "    eda_info.insert(loc=0, column='unix_time', value=unix_time)\n",
    "    \n",
    "    eda_info['unix_time'] = eda_info['unix_time'].astype(np.int64)\n",
    "    eda_info = eda_info.groupby(['unix_time'])['eda'].mean().reset_index()\n",
    "    return eda_info"
   ]
  },
  {
   "cell_type": "code",
   "execution_count": null,
   "metadata": {
    "collapsed": true
   },
   "outputs": [],
   "source": [
    "def hr_data(hrpath):\n",
    "    hr_info = pd.read_csv(hrpath,header =None, sep=',', names=['HR'])\n",
    "    # start time & sample rate\n",
    "    start_time = hr_info.iloc[0,0]\n",
    "    sample_rate = 1/hr_info.iloc[1,0]\n",
    "    \n",
    "    hr_info = hr_info.iloc[2:].reset_index(drop=True)\n",
    "    unix_time = pd.Series(range(0,len(hr_info)))*sample_rate + start_time\n",
    "    hr_info.insert(loc=0, column='unix_time', value=unix_time)\n",
    "    \n",
    "    hr_info['unix_time'] = hr_info['unix_time'].astype(np.int64)\n",
    "    hr_info = hr_info.groupby(['unix_time'])['HR'].mean().reset_index()\n",
    "    return hr_info"
   ]
  },
  {
   "cell_type": "code",
   "execution_count": null,
   "metadata": {
    "collapsed": true
   },
   "outputs": [],
   "source": [
    "def temp_data(temppath):\n",
    "    temp_info = pd.read_csv(temppath,header =None, sep=',', names=['temp'])\n",
    "    # start time & sample rate\n",
    "    start_time = temp_info.iloc[0,0]\n",
    "    sample_rate = 1/temp_info.iloc[1,0]\n",
    "    \n",
    "    temp_info = temp_info.iloc[2:].reset_index(drop=True)\n",
    "    unix_time = pd.Series(range(0,len(temp_info)))*sample_rate + start_time\n",
    "    temp_info.insert(loc=0, column='unix_time', value=unix_time)\n",
    "    \n",
    "    temp_info['unix_time'] = temp_info['unix_time'].astype(np.int64)\n",
    "    temp_info = temp_info.groupby(['unix_time'])['temp'].mean().reset_index()\n",
    "    return temp_info"
   ]
  },
  {
   "cell_type": "code",
   "execution_count": null,
   "metadata": {
    "collapsed": true
   },
   "outputs": [],
   "source": [
    "def ibi_data(ibipath):\n",
    "    try:\n",
    "        ibi_info = pd.read_csv(ibipath,sep=',',header =None, names=['ibi_time','IBI'])\n",
    "        ibi_info['unix_time'] = round(ibi_info.ibi_time[0] + ibi_info.ibi_time)\n",
    "        ibi_info = ibi_info[1:].reset_index(drop=True)\n",
    "        ibi_info['unix_time'] = ibi_info['unix_time'].astype(np.int64)\n",
    "        ibi_info['IBI'] = ibi_info['IBI'].astype(np.float64)\n",
    "        ibi_info = ibi_info.groupby(['unix_time'])['IBI'].mean().reset_index()\n",
    "    except IndexError:\n",
    "        pass\n",
    "    return ibi_info"
   ]
  },
  {
   "cell_type": "markdown",
   "metadata": {},
   "source": [
    "### empatica seperate drivers data process"
   ]
  },
  {
   "cell_type": "code",
   "execution_count": null,
   "metadata": {
    "collapsed": true
   },
   "outputs": [],
   "source": [
    "empatica_path = '/Users/tongge/Box/DriverStress/Data/Empatica/EMP006'\n",
    "gpsbb_path = '/Users/tongge/Box/DriverStress/Data/BlackBox/EMP006'"
   ]
  },
  {
   "cell_type": "code",
   "execution_count": null,
   "metadata": {
    "collapsed": true
   },
   "outputs": [],
   "source": [
    "# emp data\n",
    "hr_df = pd.DataFrame()\n",
    "acc_df = pd.DataFrame()\n",
    "eda_df = pd.DataFrame()\n",
    "ibi_df = pd.DataFrame()\n",
    "temp_df = pd.DataFrame()\n",
    "for i in os.listdir(empatica_path):\n",
    "    for j in os.listdir(os.path.join(empatica_path,i)):\n",
    "        if re.match('HR.csv', j):\n",
    "            hrpath = os.path.join(empatica_path,i,j)\n",
    "            hr_info = hr_data(hrpath)\n",
    "            hr_df = hr_df.append(hr_info, ignore_index=True)\n",
    "        elif re.match('ACC.csv', j):\n",
    "            acc_path = os.path.join(empatica_path,i,j)\n",
    "            acc_info = acc_data(acc_path)\n",
    "            acc_df = acc_df.append(acc_info, ignore_index=True)\n",
    "        elif re.match('EDA.csv', j):\n",
    "            eda_path = os.path.join(empatica_path,i,j)\n",
    "            eda_info = eda_data(eda_path)\n",
    "            eda_df = eda_df.append(eda_info, ignore_index=True)\n",
    "        elif re.match('IBI.csv', j):\n",
    "            ibi_path = os.path.join(empatica_path,i,j)\n",
    "            ibi_info = ibi_data(ibi_path)\n",
    "            ibi_df = ibi_df.append(ibi_info, ignore_index=True)\n",
    "        elif re.match('TEMP.csv', j):\n",
    "            temp_path = os.path.join(empatica_path,i,j)\n",
    "            temp_info = temp_data(temp_path)\n",
    "            temp_df = temp_df.append(temp_info, ignore_index=True)\n",
    "print('Done!')\n",
    "emp_df = pd.merge(pd.merge(pd.merge(pd.merge(hr_df,eda_df,on='unix_time'),acc_df,on='unix_time'),ibi_df,on='unix_time'),temp_df,on='unix_time')\n"
   ]
  },
  {
   "cell_type": "code",
   "execution_count": null,
   "metadata": {
    "collapsed": true
   },
   "outputs": [],
   "source": [
    "emp_df.shape"
   ]
  },
  {
   "cell_type": "code",
   "execution_count": null,
   "metadata": {
    "collapsed": true
   },
   "outputs": [],
   "source": [
    "emp_df = emp_df.drop(['ibi_time'],axis=1)"
   ]
  },
  {
   "cell_type": "code",
   "execution_count": null,
   "metadata": {
    "collapsed": true
   },
   "outputs": [],
   "source": [
    "emp_df.head()"
   ]
  },
  {
   "cell_type": "code",
   "execution_count": null,
   "metadata": {
    "collapsed": true,
    "scrolled": true
   },
   "outputs": [],
   "source": [
    "# gps data\n",
    "gps_df = pd.DataFrame()\n",
    "for i in os.listdir(gpsbb_path):\n",
    "    for j in os.listdir(os.path.join(gpsbb_path,i)):\n",
    "        if re.search('1hz',j):                 \n",
    "            gps_path = os.path.join(gpsbb_path,i,j)\n",
    "            if os.path.getsize(gps_path)!=0:  \n",
    "                try:\n",
    "                    gps_info = gps_data(gps_path)\n",
    "                    gps_df = gps_df.append(gps_info, ignore_index=True)\n",
    "                except ParserError:#,NameError) as e:\n",
    "                    pass\n",
    "print('Done!')"
   ]
  },
  {
   "cell_type": "code",
   "execution_count": null,
   "metadata": {
    "collapsed": true
   },
   "outputs": [],
   "source": [
    "gps_df.shape"
   ]
  },
  {
   "cell_type": "code",
   "execution_count": null,
   "metadata": {
    "collapsed": true
   },
   "outputs": [],
   "source": [
    "emp_data_006 = pd.merge(gps_df,emp_df,on='unix_time').sort_values(by='unix_time')"
   ]
  },
  {
   "cell_type": "code",
   "execution_count": null,
   "metadata": {
    "collapsed": true
   },
   "outputs": [],
   "source": [
    "emp_data_006.shape"
   ]
  },
  {
   "cell_type": "code",
   "execution_count": null,
   "metadata": {
    "collapsed": true
   },
   "outputs": [],
   "source": [
    "emp_data_006.head()"
   ]
  },
  {
   "cell_type": "code",
   "execution_count": null,
   "metadata": {
    "collapsed": true
   },
   "outputs": [],
   "source": [
    "emp_data_006.shape"
   ]
  },
  {
   "cell_type": "code",
   "execution_count": null,
   "metadata": {
    "collapsed": true
   },
   "outputs": [],
   "source": [
    "emp_data_006.to_csv('/Users/tongge/Box/driver_stress_tong/Empatica_data/emp_v2/emp_data_006.csv', index=None)"
   ]
  },
  {
   "cell_type": "markdown",
   "metadata": {},
   "source": [
    "### empatica_df"
   ]
  },
  {
   "cell_type": "code",
   "execution_count": 3,
   "metadata": {
    "collapsed": true
   },
   "outputs": [],
   "source": [
    "df_path = '/Users/tongge/Box/driver_stress_tong/Empatica_data/summary_new/empatica_data_mod2.csv'\n",
    "empatica_df = pd.read_csv(df_path,sep=',')"
   ]
  },
  {
   "cell_type": "code",
   "execution_count": 4,
   "metadata": {
    "collapsed": true
   },
   "outputs": [],
   "source": [
    "empatica_df = empatica_df.drop(['gradient_acc','gradient_HR','gradient_eda'],axis=1)"
   ]
  },
  {
   "cell_type": "code",
   "execution_count": 5,
   "metadata": {
    "collapsed": true
   },
   "outputs": [],
   "source": [
    "empatica_df = empatica_df[empatica_df.Driver == 'EMP006']"
   ]
  },
  {
   "cell_type": "code",
   "execution_count": 6,
   "metadata": {},
   "outputs": [
    {
     "data": {
      "text/plain": [
       "(79565, 15)"
      ]
     },
     "execution_count": 6,
     "metadata": {},
     "output_type": "execute_result"
    }
   ],
   "source": [
    "empatica_df.shape"
   ]
  },
  {
   "cell_type": "code",
   "execution_count": 7,
   "metadata": {
    "collapsed": true
   },
   "outputs": [],
   "source": [
    "def ibi_data(ibipath):\n",
    "    try:\n",
    "        ibi_info = pd.read_csv(ibipath,sep=',',header =None, names=['unix_time','IBI'])\n",
    "        ibi_info['unix_time'] = round(ibi_info.unix_time[0] + ibi_info.unix_time)\n",
    "        ibi_info = ibi_info[1:].reset_index(drop=True)\n",
    "        ibi_info['unix_time'] = ibi_info['unix_time'].astype(np.int64)\n",
    "        ibi_info['IBI'] = ibi_info['IBI'].astype(np.float64)\n",
    "        ibi_info = ibi_info.groupby(['unix_time'])['IBI'].mean().reset_index()\n",
    "    except IndexError:\n",
    "        pass\n",
    "    return ibi_info"
   ]
  },
  {
   "cell_type": "code",
   "execution_count": 8,
   "metadata": {
    "collapsed": true
   },
   "outputs": [],
   "source": [
    "empatica_path = '/Users/tongge/Box/DriverStress/Data/Empatica/EMP006'"
   ]
  },
  {
   "cell_type": "code",
   "execution_count": 9,
   "metadata": {},
   "outputs": [
    {
     "name": "stdout",
     "output_type": "stream",
     "text": [
      "Done!\n"
     ]
    }
   ],
   "source": [
    "ibi_df = pd.DataFrame()\n",
    "for i in os.listdir(empatica_path):\n",
    "    for j in os.listdir(os.path.join(empatica_path,i)):\n",
    "        if re.match('IBI.csv', j):\n",
    "            ibi_path = os.path.join(empatica_path,i,j)\n",
    "            ibi_info = ibi_data(ibi_path)\n",
    "            ibi_df = ibi_df.append(ibi_info, ignore_index=True)\n",
    "print('Done!')\n"
   ]
  },
  {
   "cell_type": "code",
   "execution_count": 10,
   "metadata": {},
   "outputs": [
    {
     "data": {
      "text/plain": [
       "(154241, 2)"
      ]
     },
     "execution_count": 10,
     "metadata": {},
     "output_type": "execute_result"
    }
   ],
   "source": [
    "ibi_df.shape"
   ]
  },
  {
   "cell_type": "code",
   "execution_count": 11,
   "metadata": {
    "collapsed": true
   },
   "outputs": [],
   "source": [
    "empatica_ibi = pd.merge(empatica_df,ibi_df,how='left',on='unix_time').sort_values(by='unix_time').reset_index(drop=True)\n"
   ]
  },
  {
   "cell_type": "code",
   "execution_count": 12,
   "metadata": {},
   "outputs": [
    {
     "data": {
      "text/plain": [
       "(79565, 16)"
      ]
     },
     "execution_count": 12,
     "metadata": {},
     "output_type": "execute_result"
    }
   ],
   "source": [
    "empatica_ibi.shape"
   ]
  },
  {
   "cell_type": "code",
   "execution_count": 13,
   "metadata": {
    "collapsed": true
   },
   "outputs": [],
   "source": [
    "empatica_ibi.to_csv('/Users/tongge/Box/driver_stress_tong/Empatica_data/empatica_ibi6.csv', index=None)"
   ]
  },
  {
   "cell_type": "markdown",
   "metadata": {},
   "source": [
    "### empatica data summary"
   ]
  },
  {
   "cell_type": "code",
   "execution_count": null,
   "metadata": {
    "collapsed": true
   },
   "outputs": [],
   "source": [
    "empatica_path = '/Users/tongge/Box/driver_stress_tong/Empatica_data/emp_v2'\n",
    "empatica_data = pd.DataFrame()\n",
    "for fpath in os.listdir(empatica_path):\n",
    "    if fpath.endswith('.csv'):\n",
    "        emp_df = pd.read_csv(os.path.join(empatica_path,fpath), sep=',')\n",
    "        empatica_data = empatica_data.append(emp_df, ignore_index=True)\n",
    "print('Done!')"
   ]
  },
  {
   "cell_type": "code",
   "execution_count": null,
   "metadata": {
    "collapsed": true
   },
   "outputs": [],
   "source": [
    "empatica_data.head()"
   ]
  },
  {
   "cell_type": "code",
   "execution_count": null,
   "metadata": {
    "collapsed": true
   },
   "outputs": [],
   "source": [
    "empatica_data['timestamp'] = pd.to_datetime(empatica_data.timestamp)"
   ]
  },
  {
   "cell_type": "code",
   "execution_count": null,
   "metadata": {
    "collapsed": true
   },
   "outputs": [],
   "source": [
    "empatica_data.insert(loc=3, column='date', value=empatica_data['timestamp'].apply(lambda x: x.strftime('%Y%m%d')))\n"
   ]
  },
  {
   "cell_type": "code",
   "execution_count": null,
   "metadata": {
    "collapsed": true
   },
   "outputs": [],
   "source": [
    "empatica_data.insert(loc=4, column='time', value=empatica_data['timestamp'].apply(lambda x: x.strftime('%H:%M:%S')))\n"
   ]
  },
  {
   "cell_type": "markdown",
   "metadata": {},
   "source": [
    "### empatica data v2"
   ]
  },
  {
   "cell_type": "code",
   "execution_count": null,
   "metadata": {
    "collapsed": true
   },
   "outputs": [],
   "source": [
    "empatica_data_v2 = empatica_data.copy()"
   ]
  },
  {
   "cell_type": "code",
   "execution_count": null,
   "metadata": {
    "collapsed": true
   },
   "outputs": [],
   "source": [
    "empatica_data_v2 = empatica_data_v2.sort_values(by=['Driver','unix_time'])"
   ]
  },
  {
   "cell_type": "code",
   "execution_count": null,
   "metadata": {
    "collapsed": true
   },
   "outputs": [],
   "source": [
    "#empatica_data_v2['gradient_HR'] = empatica_data_v2.HR.diff().shift(-1)\n",
    "empatica_data_v2['gradient_eda'] = empatica_data_v2.eda.diff().shift(-1)\n",
    "#empatica_data_v2['gradient_acc'] = empatica_data_v2.acc_x.diff().shift(-1)"
   ]
  },
  {
   "cell_type": "code",
   "execution_count": null,
   "metadata": {
    "collapsed": true,
    "scrolled": true
   },
   "outputs": [],
   "source": [
    "empatica_data_v2['interval'] = empatica_data_v2.unix_time.diff().shift(-1)"
   ]
  },
  {
   "cell_type": "code",
   "execution_count": null,
   "metadata": {
    "collapsed": true
   },
   "outputs": [],
   "source": [
    "#empatica_data_v2.gradient_HR.iloc[-1] = 0\n",
    "empatica_data_v2.gradient_eda.iloc[-1] = 0\n",
    "#empatica_data_v2.gradient_acc.iloc[-1] = 0\n",
    "empatica_data_v2.interval.iloc[-1] = 0"
   ]
  },
  {
   "cell_type": "code",
   "execution_count": null,
   "metadata": {
    "collapsed": true
   },
   "outputs": [],
   "source": [
    "#empatica_data_v2.loc[empatica_data_v2['interval']!=1,'gradient_HR']=0\n",
    "empatica_data_v2.loc[empatica_data_v2['interval']!=1,'eda_diff']=0\n",
    "#empatica_data_v2.loc[empatica_data_v2['interval']!=1,'gradient_acc']=0"
   ]
  },
  {
   "cell_type": "code",
   "execution_count": null,
   "metadata": {
    "collapsed": true
   },
   "outputs": [],
   "source": [
    "empatica_data_v2 = empatica_data_v2.drop(['interval'], axis=1)"
   ]
  },
  {
   "cell_type": "code",
   "execution_count": null,
   "metadata": {
    "collapsed": true
   },
   "outputs": [],
   "source": [
    "empatica_data_v2.head()"
   ]
  },
  {
   "cell_type": "code",
   "execution_count": null,
   "metadata": {
    "collapsed": true
   },
   "outputs": [],
   "source": [
    "empatica_data_v2.shape"
   ]
  },
  {
   "cell_type": "code",
   "execution_count": null,
   "metadata": {
    "collapsed": true
   },
   "outputs": [],
   "source": [
    "empatica_data_v2.to_csv('/Users/tongge/Box/driver_stress_tong/Empatica_data/summary_new/empatica_data_new.csv', index=None)"
   ]
  },
  {
   "cell_type": "code",
   "execution_count": null,
   "metadata": {
    "collapsed": true
   },
   "outputs": [],
   "source": []
  },
  {
   "cell_type": "markdown",
   "metadata": {},
   "source": [
    "### empatica data v3"
   ]
  },
  {
   "cell_type": "code",
   "execution_count": null,
   "metadata": {
    "collapsed": true
   },
   "outputs": [],
   "source": [
    "empatica_data_v3 = pd.read_csv('/Users/tongge/Box/driver_stress_tong/Empatica_data/summary_new/empatica_data_new.csv')\n"
   ]
  },
  {
   "cell_type": "code",
   "execution_count": null,
   "metadata": {
    "collapsed": true
   },
   "outputs": [],
   "source": [
    "value = empatica_data_v3['unix_time'].apply(lambda row: datetime.datetime.fromtimestamp(row))"
   ]
  },
  {
   "cell_type": "code",
   "execution_count": null,
   "metadata": {
    "collapsed": true
   },
   "outputs": [],
   "source": [
    "empatica_data_v3.insert(loc=5, column='timestamp_local', value=value)\n"
   ]
  },
  {
   "cell_type": "code",
   "execution_count": null,
   "metadata": {
    "collapsed": true
   },
   "outputs": [],
   "source": [
    "empatica_data_v3.insert(loc=6, column='time_local', value=empatica_data_v3['timestamp_local'].apply(lambda row: row.strftime('%H:%M:%S')))\n",
    "empatica_data_v3.insert(loc=6, column='date_local', value=empatica_data_v3['timestamp_local'].apply(lambda row: row.strftime('%Y%m%d')))\n"
   ]
  },
  {
   "cell_type": "code",
   "execution_count": null,
   "metadata": {
    "collapsed": true
   },
   "outputs": [],
   "source": [
    "#empatica_data_v3.to_csv('/Users/tongge/Box/driver_stress_tong/Empatica_data/summary_new/empatica_data_mod.csv', index=None)\n",
    "\n",
    "\n"
   ]
  },
  {
   "cell_type": "code",
   "execution_count": null,
   "metadata": {
    "collapsed": true
   },
   "outputs": [],
   "source": []
  },
  {
   "cell_type": "markdown",
   "metadata": {},
   "source": [
    "### final version"
   ]
  },
  {
   "cell_type": "code",
   "execution_count": null,
   "metadata": {
    "collapsed": true
   },
   "outputs": [],
   "source": [
    "empatica_data_v3.shape"
   ]
  },
  {
   "cell_type": "code",
   "execution_count": null,
   "metadata": {
    "collapsed": true
   },
   "outputs": [],
   "source": [
    "empatica_data_mod = pd.read_csv('/Users/tongge/Box/driver_stress_tong/Empatica_data/summary_new/empatica_data_mod.csv')"
   ]
  },
  {
   "cell_type": "code",
   "execution_count": null,
   "metadata": {
    "collapsed": true
   },
   "outputs": [],
   "source": [
    "empatica_data_mod = empatica_data_mod.sort_values(by=['Driver','unix_time'])"
   ]
  },
  {
   "cell_type": "code",
   "execution_count": null,
   "metadata": {
    "collapsed": true
   },
   "outputs": [],
   "source": [
    "empatica_data_mod = empatica_data_mod.drop(['gradient_HR','gradient_eda','gradient_acc'], axis=1)"
   ]
  },
  {
   "cell_type": "code",
   "execution_count": null,
   "metadata": {
    "collapsed": true
   },
   "outputs": [],
   "source": [
    "empatica_data_mod['gradient_HR'] = empatica_data_mod.HR.diff().shift(0)\n",
    "empatica_data_mod['gradient_eda'] = empatica_data_mod.eda.diff().shift(0)\n",
    "empatica_data_mod['gradient_acc'] = empatica_data_mod.acc_x.diff().shift(0)\n",
    "empatica_data_mod['interval'] = empatica_data_mod.unix_time.diff().shift(0)"
   ]
  },
  {
   "cell_type": "code",
   "execution_count": null,
   "metadata": {
    "collapsed": true
   },
   "outputs": [],
   "source": [
    "empatica_data_mod.gradient_HR.iloc[0] = 0\n",
    "empatica_data_mod.gradient_eda.iloc[0] = 0\n",
    "empatica_data_mod.gradient_acc.iloc[0] = 0\n",
    "empatica_data_mod.interval.iloc[0] = 0"
   ]
  },
  {
   "cell_type": "code",
   "execution_count": null,
   "metadata": {
    "collapsed": true
   },
   "outputs": [],
   "source": [
    "empatica_data_mod.loc[empatica_data_mod['interval']!=1,'gradient_HR']=0\n",
    "empatica_data_mod.loc[empatica_data_mod['interval']!=1,'gradient_eda']=0\n",
    "empatica_data_mod.loc[empatica_data_mod['interval']!=1,'gradient_acc']=0"
   ]
  },
  {
   "cell_type": "code",
   "execution_count": null,
   "metadata": {
    "collapsed": true
   },
   "outputs": [],
   "source": [
    "empatica_data_mod = empatica_data_mod.drop(['interval'], axis=1)"
   ]
  },
  {
   "cell_type": "code",
   "execution_count": null,
   "metadata": {
    "collapsed": true
   },
   "outputs": [],
   "source": [
    "empatica_data_mod.loc[empatica_data_mod.gradient_eda < 0, 'jump_eda'] = 0\n",
    "empatica_data_mod.loc[empatica_data_mod.gradient_eda >= 0, 'jump_eda'] = empatica_data_mod.gradient_eda"
   ]
  },
  {
   "cell_type": "code",
   "execution_count": null,
   "metadata": {
    "collapsed": true
   },
   "outputs": [],
   "source": []
  },
  {
   "cell_type": "code",
   "execution_count": null,
   "metadata": {
    "collapsed": true
   },
   "outputs": [],
   "source": [
    "empatica_data_mod.to_csv('/Users/tongge/Box/driver_stress_tong/Empatica_data/summary_new/empatica_data_mod2.csv', index=None)\n"
   ]
  },
  {
   "cell_type": "code",
   "execution_count": null,
   "metadata": {
    "collapsed": true
   },
   "outputs": [],
   "source": []
  },
  {
   "cell_type": "code",
   "execution_count": null,
   "metadata": {
    "collapsed": true
   },
   "outputs": [],
   "source": []
  }
 ],
 "metadata": {
  "kernelspec": {
   "display_name": "Python 3",
   "language": "python",
   "name": "python3"
  },
  "language_info": {
   "codemirror_mode": {
    "name": "ipython",
    "version": 3
   },
   "file_extension": ".py",
   "mimetype": "text/x-python",
   "name": "python",
   "nbconvert_exporter": "python",
   "pygments_lexer": "ipython3",
   "version": "3.6.1"
  }
 },
 "nbformat": 4,
 "nbformat_minor": 2
}
