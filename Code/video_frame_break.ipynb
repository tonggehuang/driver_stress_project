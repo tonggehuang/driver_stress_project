{
 "cells": [
  {
   "cell_type": "code",
   "execution_count": 122,
   "metadata": {
    "collapsed": true
   },
   "outputs": [],
   "source": [
    "import os\n",
    "import re\n",
    "import cv2\n",
    "import math\n",
    "import ffmpeg\n",
    "import numpy as np\n",
    "import pandas as pd\n",
    "import matplotlib.pyplot as plt\n",
    "%matplotlib inline\n",
    "\n",
    "from PIL import Image\n",
    "import datetime\n",
    "import warnings\n",
    "warnings.filterwarnings(\"ignore\")"
   ]
  },
  {
   "cell_type": "code",
   "execution_count": 123,
   "metadata": {
    "collapsed": true
   },
   "outputs": [],
   "source": [
    "#for driver in os.listdir('../../DriverStress/Data/BlackBox'):\n",
    "#    os.mkdir(os.path.join('../Blackbox_images', driver))"
   ]
  },
  {
   "cell_type": "code",
   "execution_count": 131,
   "metadata": {
    "collapsed": true
   },
   "outputs": [],
   "source": [
    "def frames_break(file_name,outputs_path):\n",
    "    try:\n",
    "        i_time = re.split(\"[\\-|\\.|\\b video \\b]\",file_name)[-2]\n",
    "    # video read\n",
    "        video_cap= cv2.VideoCapture(file_name)\n",
    "    # duration cal\n",
    "    except IndexError:\n",
    "        pass\n",
    "    else:\n",
    "        try:\n",
    "            fps = video_cap.get(cv2.CAP_PROP_FPS)\n",
    "            total_frames = video_cap.get(cv2.CAP_PROP_FRAME_COUNT)\n",
    "            video_time = round(total_frames/fps)\n",
    "        except ZeroDivisionError:\n",
    "            pass\n",
    "        else:\n",
    "            # frames break\n",
    "            for i in range (0,video_time,1):\n",
    "                video_cap.set(cv2.CAP_PROP_POS_MSEC,i*1000)\n",
    "                success,image = video_cap.read()\n",
    "                if success:\n",
    "                    cv2.imwrite(outputs_path + '/{}.jpg'.format(int(float(i_time)/1000000) + i), image)"
   ]
  },
  {
   "cell_type": "code",
   "execution_count": 132,
   "metadata": {
    "collapsed": true,
    "scrolled": false
   },
   "outputs": [],
   "source": [
    "def images_store(inputpath,outfolder):\n",
    "    for i in os.listdir(inputpath):\n",
    "        if not i.startswith('.'):\n",
    "            try:\n",
    "                outpath = re.split('\\_',i)[2]\n",
    "                outpath = outpath.replace('-', '')\n",
    "                outpath = os.path.join(outfolder,outpath)\n",
    "                os.makedirs(outpath, exist_ok = True)\n",
    "            except IndexError:\n",
    "                pass\n",
    "            else:\n",
    "                for j in os.listdir(os.path.join(inputpath,i)):\n",
    "                    if j.endswith('.mp4'):\n",
    "                        frames_break(os.path.join(inputpath, i, j),outpath)"
   ]
  },
  {
   "cell_type": "code",
   "execution_count": 133,
   "metadata": {
    "collapsed": true
   },
   "outputs": [],
   "source": [
    "inputpath = '/Users/tongge/Box/DriverStress/Data/BlackBox/EMP004'\n",
    "outfolder = '/Users/tongge/Box/driver_stress_tong/Blackbox_images/EMP004'\n",
    "images_store(inputpath,outfolder)"
   ]
  },
  {
   "cell_type": "code",
   "execution_count": null,
   "metadata": {
    "collapsed": true
   },
   "outputs": [],
   "source": []
  },
  {
   "cell_type": "code",
   "execution_count": null,
   "metadata": {
    "collapsed": true
   },
   "outputs": [],
   "source": []
  }
 ],
 "metadata": {
  "kernelspec": {
   "display_name": "Python 3",
   "language": "python",
   "name": "python3"
  },
  "language_info": {
   "codemirror_mode": {
    "name": "ipython",
    "version": 3
   },
   "file_extension": ".py",
   "mimetype": "text/x-python",
   "name": "python",
   "nbconvert_exporter": "python",
   "pygments_lexer": "ipython3",
   "version": "3.6.1"
  }
 },
 "nbformat": 4,
 "nbformat_minor": 2
}
