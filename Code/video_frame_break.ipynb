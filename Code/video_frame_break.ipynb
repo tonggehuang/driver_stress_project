{
 "cells": [
  {
   "cell_type": "code",
   "execution_count": 122,
   "metadata": {},
   "outputs": [],
   "source": [
    "import os\n",
    "import re\n",
    "import cv2\n",
    "import math\n",
    "import ffmpeg\n",
    "import numpy as np\n",
    "import pandas as pd\n",
    "import matplotlib.pyplot as plt\n",
    "%matplotlib inline\n",
    "\n",
    "from PIL import Image\n",
    "import datetime\n",
    "import warnings\n",
    "warnings.filterwarnings(\"ignore\")"
   ]
  },
  {
   "cell_type": "code",
   "execution_count": 123,
   "metadata": {},
   "outputs": [],
   "source": [
    "#for driver in os.listdir('../../DriverStress/Data/BlackBox'):\n",
    "#    os.mkdir(os.path.join('../Blackbox_images', driver))"
   ]
  },
  {
   "cell_type": "code",
   "execution_count": 131,
   "metadata": {},
   "outputs": [],
   "source": [
    "def frames_break(file_name,outputs_path):\n",
    "    try:\n",
    "        i_time = re.split(\"[\\-|\\.|\\b video \\b]\",file_name)[-2]\n",
    "    # video read\n",
    "        video_cap= cv2.VideoCapture(file_name)\n",
    "    # duration cal\n",
    "    except IndexError:\n",
    "        pass\n",
    "    else:\n",
    "        try:\n",
    "            fps = video_cap.get(cv2.CAP_PROP_FPS)\n",
    "            total_frames = video_cap.get(cv2.CAP_PROP_FRAME_COUNT)\n",
    "            video_time = round(total_frames/fps)\n",
    "        except ZeroDivisionError:\n",
    "            pass\n",
    "        else:\n",
    "            # frames break\n",
    "            for i in range (0,video_time,1):\n",
    "                video_cap.set(cv2.CAP_PROP_POS_MSEC,i*1000)\n",
    "                success,image = video_cap.read()\n",
    "                if success:\n",
    "                    cv2.imwrite(outputs_path + '/{}.jpg'.format(int(float(i_time)/1000000) + i), image)"
   ]
  },
  {
   "cell_type": "code",
   "execution_count": 132,
   "metadata": {
    "scrolled": false
   },
   "outputs": [],
   "source": [
    "def images_store(inputpath,outfolder):\n",
    "    for i in os.listdir(inputpath):\n",
    "        if not i.startswith('.'):\n",
    "            try:\n",
    "                outpath = re.split('\\_',i)[2]\n",
    "                outpath = outpath.replace('-', '')\n",
    "                outpath = os.path.join(outfolder,outpath)\n",
    "                os.makedirs(outpath, exist_ok = True)\n",
    "            except IndexError:\n",
    "                pass\n",
    "            else:\n",
    "                for j in os.listdir(os.path.join(inputpath,i)):\n",
    "                    if j.endswith('.mp4'):\n",
    "                        frames_break(os.path.join(inputpath, i, j),outpath)"
   ]
  },
  {
   "cell_type": "code",
   "execution_count": 133,
   "metadata": {},
   "outputs": [],
   "source": [
    "inputpath = '/Users/tongge/Box/DriverStress/Data/BlackBox/EMP004'\n",
    "outfolder = '/Users/tongge/Box/driver_stress_tong/Blackbox_images/EMP004'\n",
    "images_store(inputpath,outfolder)"
   ]
  },
  {
   "cell_type": "code",
   "execution_count": null,
   "metadata": {},
   "outputs": [],
   "source": []
  },
  {
   "cell_type": "code",
   "execution_count": null,
   "metadata": {},
   "outputs": [],
   "source": []
  },
  {
   "cell_type": "code",
   "execution_count": null,
   "metadata": {},
   "outputs": [],
   "source": []
  },
  {
   "cell_type": "code",
   "execution_count": null,
   "metadata": {},
   "outputs": [],
   "source": [
    "dbug = inputpath + '/EMP000_19_2017-09-10_02_34_17_dual_video-1505012239316377.mp4'"
   ]
  },
  {
   "cell_type": "code",
   "execution_count": null,
   "metadata": {},
   "outputs": [],
   "source": [
    "video_cap= cv2.VideoCapture(dbug)\n",
    "fps = video_cap.get(cv2.CAP_PROP_FPS)\n",
    "total_frames = video_cap.get(cv2.CAP_PROP_FRAME_COUNT)\n",
    "video_time = round(total_frames/fps)\n",
    "\n",
    "for i in range (0,video_time,1):"
   ]
  },
  {
   "cell_type": "code",
   "execution_count": null,
   "metadata": {},
   "outputs": [],
   "source": [
    "fps"
   ]
  },
  {
   "cell_type": "code",
   "execution_count": null,
   "metadata": {},
   "outputs": [],
   "source": [
    "i_time = re.split(\"[\\-|\\.|\\b video \\b]\",dbug)[-2]\n",
    "video_cap= cv2.VideoCapture(dbug)\n",
    "\n",
    "try:\n",
    "    fps = video_cap.get(cv2.CAP_PROP_FPS)\n",
    "    total_frames = video_cap.get(cv2.CAP_PROP_FRAME_COUNT)\n",
    "    video_time = round(total_frames/fps)\n",
    "except ZeroDivisionError:\n",
    "    pass\n",
    "else:\n",
    "    for i in range (0,video_time,1):\n",
    "        print (i)"
   ]
  },
  {
   "cell_type": "code",
   "execution_count": null,
   "metadata": {},
   "outputs": [],
   "source": [
    "i_time"
   ]
  },
  {
   "cell_type": "code",
   "execution_count": null,
   "metadata": {},
   "outputs": [],
   "source": [
    "video_cap"
   ]
  },
  {
   "cell_type": "code",
   "execution_count": null,
   "metadata": {},
   "outputs": [],
   "source": [
    "fps = video_cap.get(cv2.CAP_PROP_FPS)\n",
    "total_frames = video_cap.get(cv2.CAP_PROP_FRAME_COUNT)\n",
    "video_time = round(total_frames/fps)"
   ]
  },
  {
   "cell_type": "code",
   "execution_count": null,
   "metadata": {},
   "outputs": [],
   "source": [
    "total_frames"
   ]
  },
  {
   "cell_type": "code",
   "execution_count": null,
   "metadata": {},
   "outputs": [],
   "source": [
    "video_time"
   ]
  },
  {
   "cell_type": "code",
   "execution_count": null,
   "metadata": {},
   "outputs": [],
   "source": [
    "for i in os.listdir(inputpath):\n",
    "    if not i.startswith('.'):\n",
    "        outpath = re.split('\\_',i)[2]\n",
    "        outpath = outpath.replace('-', '')\n",
    "        outpath = os.path.join(outfolder,outpath)\n",
    "        os.makedirs(outpath, exist_ok = True)\n"
   ]
  },
  {
   "cell_type": "code",
   "execution_count": null,
   "metadata": {},
   "outputs": [],
   "source": [
    "try:\n",
    "    i_time = re.split(\"[\\-|\\.|\\b video \\b]\",file_name)[-2]\n",
    "    # video read\n",
    "    video_cap= cv2.VideoCapture(file_name)\n",
    "except IndexError:\n",
    "    pass"
   ]
  }
 ],
 "metadata": {
  "kernelspec": {
   "display_name": "Python 3",
   "language": "python",
   "name": "python3"
  },
  "language_info": {
   "codemirror_mode": {
    "name": "ipython",
    "version": 3
   },
   "file_extension": ".py",
   "mimetype": "text/x-python",
   "name": "python",
   "nbconvert_exporter": "python",
   "pygments_lexer": "ipython3",
   "version": "3.6.4"
  }
 },
 "nbformat": 4,
 "nbformat_minor": 2
}
